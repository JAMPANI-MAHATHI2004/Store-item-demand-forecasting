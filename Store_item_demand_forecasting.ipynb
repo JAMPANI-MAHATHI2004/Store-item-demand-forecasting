{
  "cells": [
    {
      "cell_type": "code",
      "execution_count": null,
      "metadata": {
        "id": "dNmRLn7xSRiT"
      },
      "outputs": [],
      "source": [
        "import numpy as np\n",
        "import pandas as pd\n",
        "from matplotlib import pyplot as plt\n",
        "import seaborn as sns\n",
        "import lightgbm as lgb\n",
        "from statsmodels.tsa.holtwinters import SimpleExpSmoothing\n",
        "from sklearn.metrics import mean_absolute_error\n",
        "from statsmodels.tsa.holtwinters import ExponentialSmoothing\n",
        "from statsmodels.tsa.seasonal import seasonal_decompose\n",
        "import statsmodels.api as sm\n",
        "import itertools\n",
        "\n",
        "import warnings\n",
        "pd.set_option('display.max_columns', None)\n",
        "pd.set_option('display.width', 500)\n",
        "warnings.filterwarnings('ignore')"
      ]
    },
    {
      "cell_type": "code",
      "execution_count": null,
      "metadata": {
        "id": "ug67BF--THcc"
      },
      "outputs": [],
      "source": [
        "train = pd.read_csv('/content/train.csv', parse_dates=['date'])\n",
        "test = pd.read_csv('/content/test.csv', parse_dates=['date'])\n",
        "df = pd.concat([train, test], sort=False)\n",
        "df.head()"
      ]
    },
    {
      "cell_type": "markdown",
      "metadata": {
        "id": "XlECiUjEptkF"
      },
      "source": [
        "**Data** **Visualization**"
      ]
    },
    {
      "cell_type": "code",
      "execution_count": null,
      "metadata": {
        "id": "SvJZnwZppe2U"
      },
      "outputs": [],
      "source": [
        "import plotly.express as px\n",
        "fig = px.scatter(df, x='date', y='sales', color='store',\n",
        "                 title='Sales Over Time', labels={'sales': 'sales'})\n",
        "fig.show()"
      ]
    },
    {
      "cell_type": "code",
      "execution_count": null,
      "metadata": {
        "id": "Uubd19UwpftO"
      },
      "outputs": [],
      "source": [
        "plt.hist(train['sales'], color = 'blue', edgecolor = 'black',\n",
        "         bins = int(180/5))\n",
        "\n",
        "\n",
        "plt.title('Histogram of sales')\n",
        "plt.xlabel('sales')\n",
        "plt.ylabel('sales frequency')"
      ]
    },
    {
      "cell_type": "markdown",
      "metadata": {
        "id": "m4Zbdx4gqEIO"
      },
      "source": [
        "**EDA - EXPLORING DATA ANALYSIS**"
      ]
    },
    {
      "cell_type": "code",
      "execution_count": null,
      "metadata": {
        "id": "p-irNhl_SojX"
      },
      "outputs": [],
      "source": [
        "print(\"Train size:\",train.shape)\n",
        "print(\"Test size:\",test.shape)"
      ]
    },
    {
      "cell_type": "code",
      "execution_count": null,
      "metadata": {
        "id": "JJ_a1C6uUTqi"
      },
      "outputs": [],
      "source": [
        "df.shape"
      ]
    },
    {
      "cell_type": "code",
      "execution_count": null,
      "metadata": {
        "id": "OsFBS_0vUX1g"
      },
      "outputs": [],
      "source": [
        "# Attempt to convert date-like columns to datetime objects\n",
        "df['date'] = pd.to_datetime(df['date'], errors='coerce')\n",
        "\n",
        "# Inspect data types of each column\n",
        "print(df.dtypes)\n",
        "\n",
        "# Proceed with quantile calculation\n",
        "df.quantile([0, 0.05, 0.25, 0.50, 0.75, 0.95, 0.99, 1]).T"
      ]
    },
    {
      "cell_type": "code",
      "execution_count": null,
      "metadata": {
        "id": "cLS0wJbOXyo1"
      },
      "outputs": [],
      "source": [
        "df[\"date\"].min()"
      ]
    },
    {
      "cell_type": "code",
      "execution_count": null,
      "metadata": {
        "id": "c4DsKUWAXyce"
      },
      "outputs": [],
      "source": [
        "df[\"date\"].max()"
      ]
    },
    {
      "cell_type": "code",
      "execution_count": null,
      "metadata": {
        "id": "FMg9ZBO8X3LV"
      },
      "outputs": [],
      "source": [
        "df[\"sales\"].describe([0.10, 0.30, 0.50, 0.70, 0.80, 0.90, 0.95, 0.99])"
      ]
    },
    {
      "cell_type": "code",
      "execution_count": null,
      "metadata": {
        "id": "ROFlv-CpX65I"
      },
      "outputs": [],
      "source": [
        "df[\"store\"].nunique()"
      ]
    },
    {
      "cell_type": "code",
      "execution_count": null,
      "metadata": {
        "id": "5foir2paX90i"
      },
      "outputs": [],
      "source": [
        "df[\"item\"].nunique()"
      ]
    },
    {
      "cell_type": "code",
      "execution_count": null,
      "metadata": {
        "id": "RWgYdrb8Yj4e"
      },
      "outputs": [],
      "source": [
        "df.groupby([\"store\"])[\"item\"].nunique()"
      ]
    },
    {
      "cell_type": "code",
      "execution_count": null,
      "metadata": {
        "id": "xnKKMSWJYop6"
      },
      "outputs": [],
      "source": [
        "df.groupby([\"store\", \"item\"]).agg({\"sales\": [\"sum\", \"mean\", \"median\", \"std\"]})"
      ]
    },
    {
      "cell_type": "markdown",
      "metadata": {
        "id": "6x54RMkFqKCU"
      },
      "source": [
        "**Feature Engineering**"
      ]
    },
    {
      "cell_type": "code",
      "execution_count": null,
      "metadata": {
        "id": "o8IqofVuYshV"
      },
      "outputs": [],
      "source": [
        "df['month'] = df.date.dt.month\n",
        "df['day_of_month'] = df.date.dt.day\n",
        "df['day_of_year'] = df.date.dt.dayofyear\n",
        "df['week_of_year'] = df.date.dt.isocalendar().week # Use isocalendar().week to extract week of year\n",
        "df['day_of_week'] = df.date.dt.dayofweek\n",
        "df['year'] = df.date.dt.year\n",
        "df[\"is_wknd\"] = df.date.dt.weekday // 4\n",
        "df['is_month_start'] = df.date.dt.is_month_start.astype(int)\n",
        "df['is_month_end'] = df.date.dt.is_month_end.astype(int)"
      ]
    },
    {
      "cell_type": "code",
      "execution_count": null,
      "metadata": {
        "id": "oGXxJLDQYzev"
      },
      "outputs": [],
      "source": [
        "df.head()"
      ]
    },
    {
      "cell_type": "code",
      "execution_count": null,
      "metadata": {
        "id": "IrROKou4oi2I"
      },
      "outputs": [],
      "source": [
        "df.groupby([\"store\", \"item\", \"month\"]).agg({\"sales\": [\"sum\", \"mean\", \"median\", \"std\"]})"
      ]
    },
    {
      "cell_type": "markdown",
      "metadata": {
        "id": "UwEhECNFqQqP"
      },
      "source": [
        "**Random Noise**"
      ]
    },
    {
      "cell_type": "code",
      "execution_count": null,
      "metadata": {
        "id": "5WUAHMiBonpf"
      },
      "outputs": [],
      "source": [
        "def random_noise(dataframe):\n",
        "    return np.random.normal(scale=1.6, size=(len(dataframe),))"
      ]
    },
    {
      "cell_type": "markdown",
      "metadata": {
        "id": "7CkLyYoTqUHo"
      },
      "source": [
        "**Lag/Shifted Features**"
      ]
    },
    {
      "cell_type": "code",
      "execution_count": null,
      "metadata": {
        "id": "Li91m45-ozL8"
      },
      "outputs": [],
      "source": [
        "df.sort_values(by=['store', 'item', 'date'], axis=0, inplace=True)\n",
        "df.head()"
      ]
    },
    {
      "cell_type": "code",
      "execution_count": null,
      "metadata": {
        "id": "6GhgI7wXo6gy"
      },
      "outputs": [],
      "source": [
        "def lag_features(dataframe, lags):\n",
        "    for lag in lags:\n",
        "        dataframe['sales_lag_' + str(lag)] = dataframe.groupby([\"store\", \"item\"])['sales'].transform(\n",
        "            lambda x: x.shift(lag)) + random_noise(dataframe)\n",
        "    return dataframe\n",
        "\n",
        "df = lag_features(df, [91, 98, 105, 112, 119, 126, 182, 364, 546, 728])"
      ]
    },
    {
      "cell_type": "markdown",
      "metadata": {
        "id": "IIF_wfidqY-T"
      },
      "source": [
        "**Rolling Mean Features**"
      ]
    },
    {
      "cell_type": "code",
      "execution_count": null,
      "metadata": {
        "id": "YZCcSIU9xROl"
      },
      "outputs": [],
      "source": [
        "def roll_mean_features(dataframe, windows):\n",
        "    for window in windows:\n",
        "        dataframe['sales_roll_mean_' + str(window)] = dataframe.groupby([\"store\", \"item\"])['sales']. \\\n",
        "                                                          transform(\n",
        "            lambda x: x.shift(1).rolling(window=window, min_periods=10, win_type=\"triang\").mean()) + random_noise(\n",
        "            dataframe)\n",
        "    return dataframe\n",
        "\n",
        "\n",
        "df = roll_mean_features(df, [365, 546, 730])"
      ]
    },
    {
      "cell_type": "markdown",
      "metadata": {
        "id": "zYyuOkydqc-0"
      },
      "source": [
        "**Exponentially Weighted Mean Features**"
      ]
    },
    {
      "cell_type": "code",
      "execution_count": null,
      "metadata": {
        "id": "vlXfHYu_xWvf"
      },
      "outputs": [],
      "source": [
        "def ewm_features(dataframe, alphas, lags):\n",
        "    for alpha in alphas:\n",
        "        for lag in lags:\n",
        "            dataframe['sales_ewm_alpha_' + str(alpha).replace(\".\", \"\") + \"_lag_\" + str(lag)] = \\\n",
        "                dataframe.groupby([\"store\", \"item\"])['sales'].transform(lambda x: x.shift(lag).ewm(alpha=alpha).mean())\n",
        "    return dataframe\n",
        "\n",
        "\n",
        "alphas = [0.99, 0.95, 0.9, 0.8, 0.7, 0.5]\n",
        "lags = [91, 98, 105, 112, 180, 270, 365, 546, 728]\n",
        "\n",
        "df = ewm_features(df, alphas, lags)\n",
        "df.tail()"
      ]
    },
    {
      "cell_type": "code",
      "execution_count": null,
      "metadata": {
        "id": "OacMslIyxf06"
      },
      "outputs": [],
      "source": [
        "df = pd.get_dummies(df, columns=['day_of_week', 'month'])"
      ]
    },
    {
      "cell_type": "code",
      "execution_count": null,
      "metadata": {
        "id": "L7jZGAWoxj1c"
      },
      "outputs": [],
      "source": [
        "df['sales'] = np.log1p(df[\"sales\"].values)"
      ]
    },
    {
      "cell_type": "markdown",
      "metadata": {
        "id": "FKeTLEtXqi_a"
      },
      "source": [
        "**LightGBM Model**"
      ]
    },
    {
      "cell_type": "code",
      "execution_count": null,
      "metadata": {
        "id": "-Xz4DQqExnHJ"
      },
      "outputs": [],
      "source": [
        "train = df.loc[(df[\"date\"] < \"2017-01-01\"), :]\n",
        "\n",
        "val = df.loc[(df[\"date\"] >= \"2017-01-01\") & (df[\"date\"] < \"2017-04-01\"), :]\n",
        "\n",
        "cols = [col for col in train.columns if col not in ['date', 'id', \"sales\", \"year\"]]"
      ]
    },
    {
      "cell_type": "code",
      "execution_count": null,
      "metadata": {
        "id": "ae-YPol1x-vR"
      },
      "outputs": [],
      "source": [
        "Y_train = train['sales']\n",
        "\n",
        "X_train = train[cols]\n",
        "\n",
        "Y_val = val['sales']\n",
        "\n",
        "X_val = val[cols]\n",
        "\n",
        "Y_train.shape, X_train.shape, Y_val.shape, X_val.shape"
      ]
    },
    {
      "cell_type": "markdown",
      "metadata": {
        "id": "RaCXPMDBqm1y"
      },
      "source": [
        "**Custom Cost Function**"
      ]
    },
    {
      "cell_type": "code",
      "execution_count": null,
      "metadata": {
        "id": "xdyxUT4UyEq1"
      },
      "outputs": [],
      "source": [
        "def smape(preds, target):\n",
        "    n = len(preds)\n",
        "    masked_arr = ~((preds == 0) & (target == 0))\n",
        "    preds, target = preds[masked_arr], target[masked_arr]\n",
        "    num = np.abs(preds - target)\n",
        "    denom = np.abs(preds) + np.abs(target)\n",
        "    smape_val = (200 * np.sum(num / denom)) / n\n",
        "    return smape_val\n",
        "\n",
        "\n",
        "def lgbm_smape(preds, train_data):\n",
        "    labels = train_data.get_label()\n",
        "    smape_val = smape(np.expm1(preds), np.expm1(labels))\n",
        "    return 'SMAPE', smape_val, False"
      ]
    },
    {
      "cell_type": "code",
      "execution_count": null,
      "metadata": {
        "id": "c9r9WXXQy6fN"
      },
      "outputs": [],
      "source": [
        "!pip install lightgbm --upgrade"
      ]
    },
    {
      "cell_type": "code",
      "execution_count": null,
      "metadata": {
        "id": "YHP-DqMHyfSt"
      },
      "outputs": [],
      "source": [
        "# LightGBM parameters\n",
        "lgb_params = {'metric': {'mae'},\n",
        "              'num_leaves': 10,\n",
        "              'learning_rate': 0.02,\n",
        "              'feature_fraction': 0.8,\n",
        "              'max_depth': 5,\n",
        "              'verbose': 1,\n",
        "              'num_boost_round': 2000,\n",
        "              'early_stopping_rounds': 200,\n",
        "              'nthread': -1}"
      ]
    },
    {
      "cell_type": "code",
      "execution_count": null,
      "metadata": {
        "id": "z2YC2H00yjHU"
      },
      "outputs": [],
      "source": [
        "lgbtrain = lgb.Dataset(data=X_train, label=Y_train, feature_name=cols)\n",
        "lgbval = lgb.Dataset(data=X_val, label=Y_val, reference=lgbtrain, feature_name=cols)\n",
        "\n",
        "# Use early stopping callback\n",
        "early_stopping_callback = lgb.early_stopping(200)\n",
        "\n",
        "model = lgb.train(lgb_params, lgbtrain,\n",
        "                  valid_sets=[lgbtrain, lgbval],\n",
        "                  num_boost_round=lgb_params['num_boost_round'],\n",
        "                  callbacks=[early_stopping_callback], # Pass early stopping as a callback\n",
        "                  feval=lgbm_smape)\n",
        "\n",
        "y_pred_val = model.predict(X_val, num_iteration=model.best_iteration)\n",
        "\n",
        "smape(np.expm1(y_pred_val), np.expm1(Y_val))"
      ]
    },
    {
      "cell_type": "code",
      "execution_count": null,
      "metadata": {
        "id": "OduCJKOs4cO_"
      },
      "outputs": [],
      "source": [
        "#Final Model\n",
        "\n",
        "train = df.loc[~df.sales.isna()]\n",
        "Y_train = train['sales']\n",
        "X_train = train[cols]\n",
        "\n",
        "test = df.loc[df.sales.isna()]\n",
        "X_test = test[cols]"
      ]
    },
    {
      "cell_type": "code",
      "execution_count": null,
      "metadata": {
        "id": "xdsnZoA14kqL"
      },
      "outputs": [],
      "source": [
        "lgb_params = {'metric': {'mae'},\n",
        "              'num_leaves': 10,\n",
        "              'learning_rate': 0.02,\n",
        "              'feature_fraction': 0.8,\n",
        "              'max_depth': 5,\n",
        "              'verbose': 1,\n",
        "              'nthread': -1,\n",
        "              \"num_boost_round\": model.best_iteration}\n",
        "\n",
        "# LightGBM dataset\n",
        "lgbtrain_all = lgb.Dataset(data=X_train, label=Y_train, feature_name=cols)\n",
        "\n",
        "model = lgb.train(lgb_params, lgbtrain_all, num_boost_round=model.best_iteration)\n",
        "test_preds = model.predict(X_test, num_iteration=model.best_iteration)"
      ]
    },
    {
      "cell_type": "code",
      "execution_count": null,
      "metadata": {
        "id": "9IN3eM4755CX"
      },
      "outputs": [],
      "source": [
        "forecast = pd.DataFrame({\"date\":test[\"date\"],\n",
        "                        \"store\":test[\"store\"],\n",
        "                        \"item\":test[\"item\"],\n",
        "                        \"sales\":test_preds\n",
        "                        })\n",
        "\n",
        "forecast[(forecast.store == 1) & (forecast.item == 1)].set_index(\"date\").sales.plot(color = \"green\",\n",
        "                                                                                    figsize = (20,9),\n",
        "                                                                                    legend=True, label = \"Store 1 Item 1 Forecast\");"
      ]
    },
    {
      "cell_type": "code",
      "execution_count": null,
      "metadata": {
        "id": "J5Oj71lb543r"
      },
      "outputs": [],
      "source": [
        "train[(train.store == 1) & (train.item == 17)].set_index(\"date\").sales.plot(figsize = (20,9),legend=True, label = \"Store 1 Item 17 Sales\")\n",
        "forecast[(forecast.store == 1) & (forecast.item == 17)].set_index(\"date\").sales.plot(legend=True, label = \"Store 1 Item 17 Forecast\");"
      ]
    },
    {
      "cell_type": "code",
      "execution_count": null,
      "metadata": {
        "id": "9TMxqiuF6dMH"
      },
      "outputs": [],
      "source": [
        "#Forecast Accuracy\n",
        "from sklearn.metrics import mean_absolute_error, mean_squared_error\n",
        "forecast_steps = len(forecast['sales'])\n",
        "actual = df['sales'][-forecast_steps:].dropna()\n",
        "\n",
        "# Extract the predicted sales data corresponding to the length of the actual data\n",
        "predicted = forecast['sales'][:len(actual)]\n",
        "\n",
        "mae = mean_absolute_error(actual, predicted)\n",
        "mse = mean_squared_error(actual, predicted)\n",
        "rmse = np.sqrt(mse)\n",
        "\n",
        "print(f'Mean Absolute Error (MAE): {mae}')\n",
        "print(f'Mean Squared Error (MSE): {mse}')\n",
        "print(f'Root Mean Squared Error (RMSE): {rmse}')"
      ]
    },
    {
      "cell_type": "code",
      "execution_count": null,
      "metadata": {
        "id": "EFr8E3osm9eY"
      },
      "outputs": [],
      "source": [
        "submission_df = test.loc[:, ['id', 'sales']]\n",
        "submission_df['sales'] = np.expm1(test_preds)\n",
        "# Handle non-finite values before conversion\n",
        "submission_df['id'] = submission_df['id'].fillna(0).astype(int)  # Replace NaN with 0, then convert to int\n",
        "\n",
        "submission_df.to_csv('submission.csv', index=False)\n",
        "submission_df.head(45000)"
      ]
    },
    {
      "cell_type": "code",
      "source": [
        "# Plot predicted vs actual sales for validation data\n",
        "plt.figure(figsize=(15, 6))\n",
        "plt.plot(val['date'], np.expm1(Y_val), label='Actual Sales')\n",
        "plt.plot(val['date'], np.expm1(y_pred_val), label='Predicted Sales', alpha=0.7)\n",
        "plt.xlabel('Date')\n",
        "plt.ylabel('Sales')\n",
        "plt.title('Actual vs Predicted Sales (Validation Set)')\n",
        "plt.legend()\n",
        "plt.show()"
      ],
      "metadata": {
        "id": "JM8iRnEicPkX"
      },
      "execution_count": null,
      "outputs": []
    }
  ],
  "metadata": {
    "accelerator": "GPU",
    "colab": {
      "gpuType": "T4",
      "provenance": []
    },
    "kernelspec": {
      "display_name": "Python 3",
      "name": "python3"
    },
    "language_info": {
      "name": "python"
    }
  },
  "nbformat": 4,
  "nbformat_minor": 0
}